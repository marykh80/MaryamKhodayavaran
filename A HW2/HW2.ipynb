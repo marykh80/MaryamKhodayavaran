{
 "cells": [
  {
   "cell_type": "code",
   "execution_count": 20,
   "metadata": {},
   "outputs": [
    {
     "name": "stdout",
     "output_type": "stream",
     "text": [
      "Enter the number of users:3\n",
      "Enter the user's name:mary\n",
      "Enter the user's age:11\n",
      "Enter the user's name:michael\n",
      "Enter the user's age:43\n",
      "Enter the user's name:nadine\n",
      "Enter the user's age:22\n",
      "Enter the name to search:mary\n",
      "The user was not found!\n"
     ]
    }
   ],
   "source": [
    "n = input(\"Enter the number of users:\")\n",
    "n = int(n)\n",
    "for name in range (n):\n",
    "    name = input(\"Enter the user's name:\")\n",
    "    age = input(\"Enter the user's age:\")\n",
    "    \n",
    "age = int(age)\n",
    "\n",
    "new_user = {}\n",
    "\n",
    "new_user['name']= name\n",
    "\n",
    "new_user['age']= age\n",
    "\n",
    "users_list =[]\n",
    "\n",
    "users_list.append(new_user)\n",
    "\n",
    "new_name = input(\"Enter the name to search:\")\n",
    "\n",
    "new_name = str(new_name)\n",
    "\n",
    "for i in users_list:\n",
    "        \n",
    "        if i['name'] == new_name:\n",
    "            \n",
    "            print(i['age'])\n",
    "    \n",
    "           \n",
    "else :\n",
    "    print(\"The user was not found!\")\n",
    "    \n",
    "\n",
    "    "
   ]
  },
  {
   "cell_type": "code",
   "execution_count": null,
   "metadata": {},
   "outputs": [],
   "source": []
  },
  {
   "cell_type": "code",
   "execution_count": null,
   "metadata": {},
   "outputs": [],
   "source": []
  }
 ],
 "metadata": {
  "kernelspec": {
   "display_name": "Python 3",
   "language": "python",
   "name": "python3"
  },
  "language_info": {
   "codemirror_mode": {
    "name": "ipython",
    "version": 3
   },
   "file_extension": ".py",
   "mimetype": "text/x-python",
   "name": "python",
   "nbconvert_exporter": "python",
   "pygments_lexer": "ipython3",
   "version": "3.8.5"
  }
 },
 "nbformat": 4,
 "nbformat_minor": 4
}
